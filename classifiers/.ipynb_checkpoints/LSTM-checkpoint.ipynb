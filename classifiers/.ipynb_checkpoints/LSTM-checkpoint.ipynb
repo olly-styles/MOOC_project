{
 "cells": [
  {
   "cell_type": "code",
   "execution_count": 4,
   "metadata": {
    "collapsed": false
   },
   "outputs": [],
   "source": [
    "import pandas as pd\n",
    "import numpy as np\n",
    "from sklearn import cross_validation\n",
    "from sklearn.metrics import confusion_matrix\n",
    "import matplotlib.pyplot as plt\n",
    "%matplotlib inline\n",
    "\n",
    "# Load the data\n",
    "X = [np.load('../data/X_1week.pkl').reshape(33400,6)]\n",
    "for num_weeks in range(2,7):\n",
    "    X.append(np.load('../data/X_' + str(num_weeks) + 'week.pkl'))\n",
    "y = np.load('../data/y.pkl')\n",
    "\n",
    "y = pd.get_dummies(y)\n",
    "y = y.values\n",
    "\n",
    "\n",
    "# Train test split\n",
    "X_train, X_test, y_train, y_test = cross_validation.train_test_split(X[2], y, test_size=0.4,random_state=0)"
   ]
  },
  {
   "cell_type": "code",
   "execution_count": 5,
   "metadata": {
    "collapsed": false
   },
   "outputs": [],
   "source": [
    "# Adapted from https://github.com/fchollet/keras/issues/1711\n",
    "\n",
    "from keras.models import Sequential\n",
    "from keras.layers import LSTM, Dense\n",
    "\n",
    "def create_model(feature_shape,layers,hidden_units):\n",
    "    \n",
    "    data_dim = feature_shape[2]\n",
    "    timesteps = feature_shape[1]\n",
    "    print data_dim\n",
    "    print timesteps\n",
    "\n",
    "    model = Sequential()\n",
    "\n",
    "    if layers > 1:\n",
    "        model.add(LSTM(hidden_units, return_sequences=True,  # return_sequences to True for multi-layer\n",
    "               input_shape=(timesteps, data_dim)))  # returns a sequence of vectors of dimension data_dim\n",
    "        for n in range(2,layers+1):\n",
    "            if n == layers:   #If this is the last layer, don't return sequences\n",
    "                model.add(LSTM(hidden_units, return_sequences=False))  \n",
    "            else:\n",
    "                model.add(LSTM(hidden_units, return_sequences=True)) \n",
    "    elif layers == 1:\n",
    "         model.add(LSTM(hidden_units,  # set return_sequences to True for multi-layer\n",
    "               input_shape=(timesteps, data_dim)))  # returns a sequence of vectors of dimension data_dim\n",
    "\n",
    "    else:\n",
    "        print \"layers must be > 1 !\"\n",
    "        \n",
    "    model.add(Dense(3, activation='softmax'))\n",
    "    \n",
    "    model.compile(loss='categorical_crossentropy', optimizer='rmsprop')\n",
    "    \n",
    "    return model\n",
    "    \n",
    "\n",
    "\n",
    "def train_and_evaluate_model(model, X_train, y_train, X_test, y_test,batch_size,nb_epoch):\n",
    "    \n",
    "    \n",
    "    model.fit(X_train, y_train, batch_size=batch_size, nb_epoch=nb_epoch,verbose=0)\n",
    "   \n",
    "      \n",
    "    y_score_train = model.predict_proba(X_train,verbose=0)\n",
    "    train_score = roc_auc_score(y_train.astype(int), y_score_train)\n",
    "    \n",
    "    y_score_test = model.predict_proba(X_test,verbose=0)\n",
    "    test_score = roc_auc_score(y_test.astype(int), y_score_test)\n",
    "    \n",
    "    return train_score, test_score\n"
   ]
  },
  {
   "cell_type": "code",
   "execution_count": 6,
   "metadata": {
    "collapsed": false,
    "scrolled": false
   },
   "outputs": [
    {
     "name": "stdout",
     "output_type": "stream",
     "text": [
      "6\n",
      "3\n",
      "Epoch 1/15\n",
      "20040/20040 [==============================] - 2s - loss: 0.5254     \n",
      "Epoch 2/15\n",
      "20040/20040 [==============================] - 3s - loss: 0.1841     \n",
      "Epoch 3/15\n",
      "20040/20040 [==============================] - 2s - loss: 0.1516     \n",
      "Epoch 4/15\n",
      "20040/20040 [==============================] - 3s - loss: 0.1442     \n",
      "Epoch 5/15\n",
      "20040/20040 [==============================] - 2s - loss: 0.1405     \n",
      "Epoch 6/15\n",
      "20040/20040 [==============================] - 2s - loss: 0.1377     \n",
      "Epoch 7/15\n",
      "20040/20040 [==============================] - 2s - loss: 0.1361     \n",
      "Epoch 8/15\n",
      "20040/20040 [==============================] - 2s - loss: 0.1349     \n",
      "Epoch 9/15\n",
      "20040/20040 [==============================] - 3s - loss: 0.1337     \n",
      "Epoch 10/15\n",
      "20040/20040 [==============================] - 2s - loss: 0.1331     \n",
      "Epoch 11/15\n",
      "20040/20040 [==============================] - 2s - loss: 0.1323     \n",
      "Epoch 12/15\n",
      "20040/20040 [==============================] - 2s - loss: 0.1315     \n",
      "Epoch 13/15\n",
      "20040/20040 [==============================] - 3s - loss: 0.1318     \n",
      "Epoch 14/15\n",
      "20040/20040 [==============================] - 3s - loss: 0.1306     \n",
      "Epoch 15/15\n",
      "20040/20040 [==============================] - 2s - loss: 0.1302     \n"
     ]
    },
    {
     "data": {
      "text/plain": [
       "<keras.callbacks.History at 0x7fc5ca6eb9d0>"
      ]
     },
     "execution_count": 6,
     "metadata": {},
     "output_type": "execute_result"
    }
   ],
   "source": [
    "model = create_model(X_train.shape,1,20)\n",
    "model.fit(X_train, y_train, batch_size=64, nb_epoch=15,verbose=1)"
   ]
  },
  {
   "cell_type": "code",
   "execution_count": 9,
   "metadata": {
    "collapsed": false
   },
   "outputs": [],
   "source": [
    "results = model.predict(X_test)\n",
    "results.dump('../data/predictions/lstmpredictions.pkl')"
   ]
  },
  {
   "cell_type": "code",
   "execution_count": 106,
   "metadata": {
    "collapsed": false
   },
   "outputs": [],
   "source": [
    "results = model.predict(X_test)\n",
    "preds = []\n",
    "for x in results:\n",
    "    if x.argmax().max() == 0:\n",
    "        preds.append(\"fail\")\n",
    "    elif x.argmax().max() == 1:\n",
    "        preds.append(\"marginal fail\")\n",
    "    else:\n",
    "        preds.append(\"pass\")\n",
    "        \n",
    "truth = []\n",
    "for x in y_test:\n",
    "    if x.argmax().max() == 0:\n",
    "        truth.append(\"fail\")\n",
    "    elif x.argmax().max() == 1:\n",
    "        truth.append(\"marginal fail\")\n",
    "    else:\n",
    "        truth.append(\"pass\")"
   ]
  },
  {
   "cell_type": "code",
   "execution_count": 110,
   "metadata": {
    "collapsed": false
   },
   "outputs": [
    {
     "name": "stdout",
     "output_type": "stream",
     "text": [
      "Confusion matrix, without normalization\n",
      "[[10373    82    16]\n",
      " [   84   374   335]\n",
      " [   20   121  1955]]\n",
      "Normalized confusion matrix\n",
      "[[ 0.99  0.01  0.  ]\n",
      " [ 0.11  0.47  0.42]\n",
      " [ 0.01  0.06  0.93]]\n"
     ]
    },
    {
     "data": {
      "image/png": "[encoded data removed]",
      "text/plain": [
       "<matplotlib.figure.Figure at 0x7f3e8bbccc50>"
      ]
     },
     "metadata": {},
     "output_type": "display_data"
    },
    {
     "data": {
      "image/png": "[encoded data removed]",
      "text/plain": [
       "<matplotlib.figure.Figure at 0x7f3e93894a10>"
      ]
     },
     "metadata": {},
     "output_type": "display_data"
    }
   ],
   "source": [
    "#http://scikit-learn.org/stable/auto_examples/model_selection/plot_confusion_matrix.html\n",
    "confusion_matrix(truth, preds,labels=['fail','marginal fail','pass'])\n",
    "\n",
    "def plot_confusion_matrix(cm, title='Confusion matrix', cmap=plt.cm.Greens):\n",
    "    plt.imshow(cm, interpolation='nearest', cmap=cmap)\n",
    "    plt.title(title)\n",
    "    plt.colorbar()\n",
    "    tick_marks = np.arange(len(['fail','marginal fail','pass']))\n",
    "    plt.xticks(tick_marks, ['fail','marginal fail','pass'], rotation=45)\n",
    "    plt.yticks(tick_marks, ['fail','marginal fail','pass'])\n",
    "    plt.tight_layout()\n",
    "    plt.ylabel('True label')\n",
    "    plt.xlabel('Predicted label')\n",
    "\n",
    "# Compute confusion matrix\n",
    "cm = confusion_matrix(truth, preds)\n",
    "np.set_printoptions(precision=2)\n",
    "print('Confusion matrix, without normalization')\n",
    "print(cm)\n",
    "plt.figure(figsize=(8, 6))\n",
    "plot_confusion_matrix(cm)\n",
    "\n",
    "cm_normalized = cm.astype('float') / cm.sum(axis=1)[:, np.newaxis]\n",
    "print('Normalized confusion matrix')\n",
    "print(cm_normalized)\n",
    "plt.figure(figsize=(8, 6))\n",
    "plot_confusion_matrix(cm_normalized, title='Normalized confusion matrix')\n"
   ]
  },
  {
   "cell_type": "code",
   "execution_count": 111,
   "metadata": {
    "collapsed": false
   },
   "outputs": [
    {
     "name": "stdout",
     "output_type": "stream",
     "text": [
      "6\n",
      "3\n",
      "Epoch 1/20\n",
      "20040/20040 [==============================] - 6s - loss: 0.3020     \n",
      "Epoch 2/20\n",
      "20040/20040 [==============================] - 6s - loss: 0.1511     \n",
      "Epoch 3/20\n",
      "20040/20040 [==============================] - 6s - loss: 0.1412     \n",
      "Epoch 4/20\n",
      "20040/20040 [==============================] - 6s - loss: 0.1381     \n",
      "Epoch 5/20\n",
      "20040/20040 [==============================] - 6s - loss: 0.1358     \n",
      "Epoch 6/20\n",
      "20040/20040 [==============================] - 6s - loss: 0.1349     \n",
      "Epoch 7/20\n",
      "20040/20040 [==============================] - 7s - loss: 0.1340     \n",
      "Epoch 8/20\n",
      "20040/20040 [==============================] - 7s - loss: 0.1325     \n",
      "Epoch 9/20\n",
      "20040/20040 [==============================] - 8s - loss: 0.1319     \n",
      "Epoch 10/20\n",
      "20040/20040 [==============================] - 7s - loss: 0.1311     \n",
      "Epoch 11/20\n",
      "20040/20040 [==============================] - 7s - loss: 0.1312     \n",
      "Epoch 12/20\n",
      "20040/20040 [==============================] - 7s - loss: 0.1302     \n",
      "Epoch 13/20\n",
      "20040/20040 [==============================] - 7s - loss: 0.1302     \n",
      "Epoch 14/20\n",
      "20040/20040 [==============================] - 7s - loss: 0.1296     \n",
      "Epoch 15/20\n",
      "20040/20040 [==============================] - 7s - loss: 0.1293     \n",
      "Epoch 16/20\n",
      "20040/20040 [==============================] - 7s - loss: 0.1287     \n",
      "Epoch 17/20\n",
      "20040/20040 [==============================] - 7s - loss: 0.1283     \n",
      "Epoch 18/20\n",
      "20040/20040 [==============================] - 6s - loss: 0.1287     \n",
      "Epoch 19/20\n",
      "20040/20040 [==============================] - 7s - loss: 0.1282     \n",
      "Epoch 20/20\n",
      "20040/20040 [==============================] - 7s - loss: 0.1283     \n"
     ]
    },
    {
     "data": {
      "text/plain": [
       "<keras.callbacks.History at 0x7f3e84e02b10>"
      ]
     },
     "execution_count": 111,
     "metadata": {},
     "output_type": "execute_result"
    }
   ],
   "source": [
    "model2 = create_model(X_train.shape,2,40)\n",
    "model2.fit(X_train, y_train, batch_size=64, nb_epoch=20,verbose=1)"
   ]
  },
  {
   "cell_type": "code",
   "execution_count": 118,
   "metadata": {
    "collapsed": true
   },
   "outputs": [],
   "source": [
    "results2 = model2.predict(X_test)\n",
    "preds2 = []\n",
    "for x in results2:\n",
    "    if x.argmax().max() == 0:\n",
    "        preds2.append(\"fail\")\n",
    "    elif x.argmax().max() == 1:\n",
    "        preds2.append(\"marginal fail\")\n",
    "    else:\n",
    "        preds2.append(\"pass\")"
   ]
  },
  {
   "cell_type": "code",
   "execution_count": 119,
   "metadata": {
    "collapsed": false
   },
   "outputs": [
    {
     "name": "stdout",
     "output_type": "stream",
     "text": [
      "Confusion matrix, without normalization\n",
      "[[10345   112    14]\n",
      " [   49   414   330]\n",
      " [   15   130  1951]]\n",
      "Normalized confusion matrix\n",
      "[[ 0.99  0.01  0.  ]\n",
      " [ 0.06  0.52  0.42]\n",
      " [ 0.01  0.06  0.93]]\n"
     ]
    },
    {
     "data": {
      "image/png": "[encoded data removed]",
      "text/plain": [
       "<matplotlib.figure.Figure at 0x7f3e856deb90>"
      ]
     },
     "metadata": {},
     "output_type": "display_data"
    },
    {
     "data": {
      "image/png": "[encoded data removed]",
      "text/plain": [
       "<matplotlib.figure.Figure at 0x7f3e93894810>"
      ]
     },
     "metadata": {},
     "output_type": "display_data"
    }
   ],
   "source": [
    "#http://scikit-learn.org/stable/auto_examples/model_selection/plot_confusion_matrix.html\n",
    "confusion_matrix(truth, preds2,labels=['fail','marginal fail','pass'])\n",
    "\n",
    "def plot_confusion_matrix(cm, title='Confusion matrix', cmap=plt.cm.Greens):\n",
    "    plt.imshow(cm, interpolation='nearest', cmap=cmap)\n",
    "    plt.title(title)\n",
    "    plt.colorbar()\n",
    "    tick_marks = np.arange(len(['fail','marginal fail','pass']))\n",
    "    plt.xticks(tick_marks, ['fail','marginal fail','pass'], rotation=45)\n",
    "    plt.yticks(tick_marks, ['fail','marginal fail','pass'])\n",
    "    plt.tight_layout()\n",
    "    plt.ylabel('True label')\n",
    "    plt.xlabel('Predicted label')\n",
    "\n",
    "# Compute confusion matrix\n",
    "cm = confusion_matrix(truth, preds2)\n",
    "np.set_printoptions(precision=2)\n",
    "print('Confusion matrix, without normalization')\n",
    "print(cm)\n",
    "plt.figure(figsize=(8, 6))\n",
    "plot_confusion_matrix(cm)\n",
    "\n",
    "cm_normalized = cm.astype('float') / cm.sum(axis=1)[:, np.newaxis]\n",
    "print('Normalized confusion matrix')\n",
    "print(cm_normalized)\n",
    "plt.figure(figsize=(8, 6))\n",
    "plot_confusion_matrix(cm_normalized, title='Normalized confusion matrix')\n"
   ]
  }
 ],
 "metadata": {
  "kernelspec": {
   "display_name": "Python 2",
   "language": "python",
   "name": "python2"
  },
  "language_info": {
   "codemirror_mode": {
    "name": "ipython",
    "version": 2
   },
   "file_extension": ".py",
   "mimetype": "text/x-python",
   "name": "python",
   "nbconvert_exporter": "python",
   "pygments_lexer": "ipython2",
   "version": "2.7.11"
  }
 },
 "nbformat": 4,
 "nbformat_minor": 0
}
