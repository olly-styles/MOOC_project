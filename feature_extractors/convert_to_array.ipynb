{
 "cells": [
  {
   "cell_type": "code",
   "execution_count": 10,
   "metadata": {
    "collapsed": false
   },
   "outputs": [],
   "source": [
    "import pandas as pd\n",
    "import numpy as np\n",
    "\n",
    "df_combined = pd.read_pickle('../data/df_combined.pkl')\n",
    "\n",
    "# Given a dataframe and a number of weeks, returns a feature vector in the form of a numpy \n",
    "# array of shape (num_training_samples,num_weeks,num_features)\n",
    "def create_feature_vector(df,num_weeks):\n",
    "    num_features = (len(df.columns)) / 6\n",
    "    X = df[df.columns[[np.arange(num_weeks)]]]\n",
    "    if num_features == 1:\n",
    "        X = np.array(X)\n",
    "        return X\n",
    "    else:\n",
    "        for f in range(1,num_features):\n",
    "            feature = df[df.columns[[np.arange(f*6,(f*6)+num_weeks)]]]\n",
    "            X = X.merge(feature,left_index=True,right_index=True)\n",
    "        X = np.array(X).reshape(len(X),num_weeks,num_features,order='F')\n",
    "        return X\n",
    "\n",
    "y = np.array(df_combined['grade'])\n",
    "y.dump('../data/y.pkl')\n",
    "\n",
    "df_combined = df_combined.drop('grade',axis=1)\n",
    "\n",
    "create_feature_vector(df_combined,6)\n",
    "\n",
    "for num_weeks in range(1,7):\n",
    "    X = create_feature_vector(df_combined,num_weeks)\n",
    "    X.dump('../data/X_' + str(num_weeks) + 'week.pkl')\n",
    "    "
   ]
  }
 ],
 "metadata": {
  "kernelspec": {
   "display_name": "Python 2",
   "language": "python",
   "name": "python2"
  },
  "language_info": {
   "codemirror_mode": {
    "name": "ipython",
    "version": 2
   },
   "file_extension": ".py",
   "mimetype": "text/x-python",
   "name": "python",
   "nbconvert_exporter": "python",
   "pygments_lexer": "ipython2",
   "version": "2.7.11"
  }
 },
 "nbformat": 4,
 "nbformat_minor": 0
}
